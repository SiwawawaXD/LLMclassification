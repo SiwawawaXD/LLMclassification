{
  "cells": [
    {
      "cell_type": "markdown",
      "metadata": {
        "id": "view-in-github",
        "colab_type": "text"
      },
      "source": [
        "<a href=\"https://colab.research.google.com/github/SiwawawaXD/LLMclassification/blob/main/pythonCallChatgpt.ipynb\" target=\"_parent\"><img src=\"https://colab.research.google.com/assets/colab-badge.svg\" alt=\"Open In Colab\"/></a>"
      ]
    },
    {
      "cell_type": "code",
      "source": [
        "from google.colab import drive\n",
        "drive.mount('/content/drive')"
      ],
      "metadata": {
        "colab": {
          "base_uri": "https://localhost:8080/"
        },
        "id": "xhAfkHkNJnys",
        "outputId": "b7db7e44-4a1e-4f37-ab91-afecb7b44ce7"
      },
      "execution_count": 1,
      "outputs": [
        {
          "output_type": "stream",
          "name": "stdout",
          "text": [
            "Mounted at /content/drive\n"
          ]
        }
      ]
    },
    {
      "cell_type": "code",
      "source": [
        "import pandas as pd\n",
        "import json\n",
        "import glob\n",
        "import os\n",
        "import numpy as np\n",
        "from scipy.interpolate import interp1d\n",
        "\n",
        "# === 1. Define where your spectra CSVs are ===\n",
        "data_paths = {\n",
        "    \"Acrylic\": \"/content/drive/MyDrive/CsvStandard50Spectra/Acrylic/*.CSV\",\n",
        "    \"Cellulose\": \"/content/drive/MyDrive/CsvStandard50Spectra/Cellulose/*.CSV\",\n",
        "    \"ENR\": \"/content/drive/MyDrive/CsvStandard50Spectra/ENR/*.CSV\",\n",
        "    \"EPDM\": \"/content/drive/MyDrive/CsvStandard50Spectra/EPDM/*.CSV\",\n",
        "    \"HDPE\": \"/content/drive/MyDrive/CsvStandard50Spectra/HDPE/*.CSV\",\n",
        "    \"LDPE\": \"/content/drive/MyDrive/CsvStandard50Spectra/LDPE/*.CSV\",\n",
        "    \"Nylon\": \"/content/drive/MyDrive/CsvStandard50Spectra/Nylon/*.CSV\",\n",
        "    \"PBAT\": \"/content/drive/MyDrive/CsvStandard50Spectra/PBAT/*.CSV\",\n",
        "    \"PBS\": \"/content/drive/MyDrive/CsvStandard50Spectra/PBS/*.CSV\",\n",
        "    \"PC\": \"/content/drive/MyDrive/CsvStandard50Spectra/PC/*.CSV\",\n",
        "    \"PEEK\": \"/content/drive/MyDrive/CsvStandard50Spectra/PEEK/*.CSV\",\n",
        "    \"PEI\": \"/content/drive/MyDrive/CsvStandard50Spectra/PEI/*.CSV\",\n",
        "    \"PET\": \"/content/drive/MyDrive/CsvStandard50Spectra/PET/*.CSV\",\n",
        "    \"PLA\": \"/content/drive/MyDrive/CsvStandard50Spectra/PLA/*.CSV\",\n",
        "    \"PMMA\": \"/content/drive/MyDrive/CsvStandard50Spectra/PMMA/*.CSV\",\n",
        "    \"POM\": \"/content/drive/MyDrive/CsvStandard50Spectra/POM/*.CSV\",\n",
        "    \"PP\": \"/content/drive/MyDrive/CsvStandard50Spectra/PP/*.CSV\",\n",
        "    \"PS\": \"/content/drive/MyDrive/CsvStandard50Spectra/PS/*.CSV\",\n",
        "    \"PTFE\": \"/content/drive/MyDrive/CsvStandard50Spectra/PTFE/*.CSV\",\n",
        "    \"PU\": \"/content/drive/MyDrive/CsvStandard50Spectra/PU/*.CSV\",\n",
        "    \"PVA\": \"/content/drive/MyDrive/CsvStandard50Spectra/PVA/*.CSV\",\n",
        "    \"PVC\": \"/content/drive/MyDrive/CsvStandard50Spectra/PVC/*.CSV\",\n",
        "}\n",
        "\n",
        "jsonl_out = \"training_data.jsonl\"\n",
        "\n",
        "with open(jsonl_out, \"w\") as f_out:\n",
        "    for label, pattern in data_paths.items():\n",
        "        num = 1\n",
        "        for file in glob.glob(pattern):\n",
        "            if num < 6 :\n",
        "                # === 2. Read CSV (no header) ===\n",
        "                df = pd.read_csv(file, header=None, names=[\"x\", \"y\"])\n",
        "\n",
        "                # === 3. Extract x,y pairs ===\n",
        "                xy_pairs = df[[\"x\", \"y\"]].values.tolist()\n",
        "\n",
        "                # === 4. Downsample (optional, comment out to keep all points) ===\n",
        "                step = max(1, len(xy_pairs) // 10000)  # keep ~10000 points\n",
        "                xy_pairs = xy_pairs[::5]  # can change step variable to exact number ex. change to 2 to make it skip 1 point\n",
        "\n",
        "                # === 5. Format prompt+completion ===\n",
        "                item = [\n",
        "                    {\"messages\" : [\n",
        "                        {\"role\" : \"system\", \"content\" : \"You are an expert microplastic type classifier. The first column is X-axis and the second column is Y-axis. Classify the unknown and return only the microplastic type classname. You will be given 5 samples of each microplastic type, Use them as reference for predicting what user input.\"},\n",
        "                        {\"role\" : \"user\", \"content\" : f\"what is the microplastic type of the graph with the following points? there are  {xy_pairs}\"},\n",
        "                        {\"role\" : \"assistant\", \"content\" : f\"{label}\"}\n",
        "                    ]}\n",
        "                ]\n",
        "                f_out.write(json.dumps(item[0]) + \"\\n\")\n",
        "                num +=1\n",
        "\n",
        "print(f\"Training data saved to {jsonl_out}\")"
      ],
      "metadata": {
        "colab": {
          "base_uri": "https://localhost:8080/"
        },
        "id": "7BIRtzDOZ9G2",
        "outputId": "560af10b-8b3a-4c54-f62e-f71f06af6ded"
      },
      "execution_count": null,
      "outputs": [
        {
          "output_type": "stream",
          "name": "stdout",
          "text": [
            "Training data saved to training_data.jsonl\n"
          ]
        }
      ]
    },
    {
      "cell_type": "code",
      "source": [
        "from openai import OpenAI\n",
        "from google.colab import userdata\n",
        "# Initialize the client\n",
        "# The client automatically reads the OPENAI_API_KEY environment variable\n",
        "client = OpenAI(api_key=userdata.get(\"OPENAI_API_KEY\"))\n",
        "\n",
        "# Upload the training file\n",
        "file_upload_response = client.files.create(\n",
        "  file=open(\"training_data.jsonl\", \"rb\"), # Your file path\n",
        "  purpose=\"fine-tune\"\n",
        ")\n",
        "\n",
        "# Get the file ID\n",
        "training_file_id = file_upload_response.id\n",
        "print(f\"File uploaded successfully with ID: {training_file_id}\")"
      ],
      "metadata": {
        "colab": {
          "base_uri": "https://localhost:8080/"
        },
        "id": "jKcsDKmKlnNT",
        "outputId": "7b92d553-1a2b-40f8-ad28-3e4d56407cf8"
      },
      "execution_count": null,
      "outputs": [
        {
          "output_type": "stream",
          "name": "stdout",
          "text": [
            "File uploaded successfully with ID: file-Wo5bwPZWsirv1cPiustLbF\n"
          ]
        }
      ]
    },
    {
      "cell_type": "code",
      "source": [
        "from openai import OpenAI\n",
        "\n",
        "client = OpenAI(api_key=userdata.get(\"OPENAI_API_KEY\"))\n",
        "\n",
        "# The training_file_id from the previous step\n",
        "training_file_id = \"file-Wo5bwPZWsirv1cPiustLbF\" # <-- Replace with your actual file ID\n",
        "\n",
        "# Create the fine-tuning job\n",
        "fine_tuning_job = client.fine_tuning.jobs.create(\n",
        "  training_file=training_file_id,\n",
        "  model=\"gpt-4.1-nano-2025-04-14\", # The base model you want to fine-tune\n",
        "  suffix=\"Microplastic Classifier 1 trainset\", # (Optional) A custom name for your model\n",
        "  hyperparameters={\"n_epochs\": 3} # <--- Add this line to set the number of epochs\n",
        ")\n",
        "\n",
        "\n",
        "# Get the job ID\n",
        "job_id = fine_tuning_job.id\n",
        "print(f\"Fine-tuning job created successfully with ID: {job_id}\")"
      ],
      "metadata": {
        "colab": {
          "base_uri": "https://localhost:8080/"
        },
        "id": "N9KL8S0todUk",
        "outputId": "6776c881-fd23-496c-e5dc-66966c0fc125"
      },
      "execution_count": null,
      "outputs": [
        {
          "output_type": "stream",
          "name": "stdout",
          "text": [
            "Fine-tuning job created successfully with ID: ftjob-92EdMxoCwlwKm35h62CDNEeb\n"
          ]
        }
      ]
    },
    {
      "cell_type": "code",
      "source": [
        "client.fine_tuning.jobs.retrieve(job_id)"
      ],
      "metadata": {
        "id": "mmsMeue5oqIM",
        "outputId": "cc6cefe9-e064-4aa6-b9e7-387e1369c4e8",
        "colab": {
          "base_uri": "https://localhost:8080/"
        }
      },
      "execution_count": null,
      "outputs": [
        {
          "output_type": "execute_result",
          "data": {
            "text/plain": [
              "FineTuningJob(id='ftjob-92EdMxoCwlwKm35h62CDNEeb', created_at=1759269505, error=Error(code=None, message=None, param=None), fine_tuned_model=None, finished_at=None, hyperparameters=Hyperparameters(batch_size='auto', learning_rate_multiplier='auto', n_epochs=3), model='gpt-4.1-nano-2025-04-14', object='fine_tuning.job', organization_id='org-XCHqF2z00bEi63AZd5QnYvjt', result_files=[], seed=1383794115, status='validating_files', trained_tokens=None, training_file='file-Wo5bwPZWsirv1cPiustLbF', validation_file=None, estimated_finish=None, integrations=[], metadata=None, method=Method(type='supervised', dpo=None, reinforcement=None, supervised=SupervisedMethod(hyperparameters=SupervisedHyperparameters(batch_size='auto', learning_rate_multiplier='auto', n_epochs=3))), user_provided_suffix='Microplastic Classifier 1 trainset', usage_metrics=None, shared_with_openai=False, eval_id=None)"
            ]
          },
          "metadata": {},
          "execution_count": 14
        }
      ]
    },
    {
      "cell_type": "code",
      "source": [
        "fine_tuning_job"
      ],
      "metadata": {
        "id": "lWpmCkvpou64",
        "outputId": "a09489d1-5e27-4a17-bcd9-fa2e277f2544",
        "colab": {
          "base_uri": "https://localhost:8080/"
        }
      },
      "execution_count": null,
      "outputs": [
        {
          "output_type": "execute_result",
          "data": {
            "text/plain": [
              "FineTuningJob(id='ftjob-92EdMxoCwlwKm35h62CDNEeb', created_at=1759269505, error=Error(code=None, message=None, param=None), fine_tuned_model=None, finished_at=None, hyperparameters=Hyperparameters(batch_size='auto', learning_rate_multiplier='auto', n_epochs=3), model='gpt-4.1-nano-2025-04-14', object='fine_tuning.job', organization_id='org-XCHqF2z00bEi63AZd5QnYvjt', result_files=[], seed=1383794115, status='validating_files', trained_tokens=None, training_file='file-Wo5bwPZWsirv1cPiustLbF', validation_file=None, estimated_finish=None, integrations=[], metadata=None, method=Method(type='supervised', dpo=None, reinforcement=None, supervised=SupervisedMethod(hyperparameters=SupervisedHyperparameters(batch_size='auto', learning_rate_multiplier='auto', n_epochs=3))), user_provided_suffix='Microplastic Classifier 1 trainset', usage_metrics=None, shared_with_openai=False, eval_id=None)"
            ]
          },
          "metadata": {},
          "execution_count": 16
        }
      ]
    },
    {
      "cell_type": "code",
      "source": [
        "import os\n",
        "import pandas as pd\n",
        "import csv\n",
        "import time\n",
        "from openai import OpenAI\n",
        "from google.colab import userdata\n",
        "\n",
        "# Define the directory path\n",
        "directory = \"/content/drive/MyDrive/CsvStandard10Spectra/\"\n",
        "\n",
        "# CSV file to store results\n",
        "csv_file = \"chatgpt_responses.csv\"\n",
        "\n",
        "# Create CSV file with header if it doesn't exist\n",
        "try:\n",
        "    with open(csv_file, 'x', newline='') as file:\n",
        "        writer = csv.writer(file)\n",
        "        writer.writerow([\"Timestamp\", \"Response\"])\n",
        "except FileExistsError:\n",
        "    pass  # File already exists\n",
        "\n",
        "# Loop through files with error handling\n",
        "for filename in os.listdir(directory):\n",
        "    file_path = os.path.join(directory, filename)\n",
        "\n",
        "    # Only process files (not directories) and text files\n",
        "    #if os.path.isfile(file_path) and filename.endswith(('.txt', '.CSV', '.py', '.md')):\n",
        "    num = 0\n",
        "    try:\n",
        "        #print(f\"\\n=== Content of {filename} ===\")\n",
        "        for item in os.listdir(file_path):\n",
        "          if num < 10 :\n",
        "            print(item,end=\"\")\n",
        "            message = \"\"\n",
        "            with open(file_path+'/'+item, 'r', encoding='utf-8') as file:\n",
        "              #content = file.read()\n",
        "              #print(content[:500])  # Print first 500 characters\n",
        "              #if len(content) > 500:\n",
        "              #    print(\"... (content truncated)\")\n",
        "\n",
        "              df = pd.read_csv(file, header=None, names=[\"x\", \"y\"])\n",
        "              #print(file)\n",
        "              # === 3. Extract x,y pairs ===\n",
        "              xy_pairs = df[[\"x\", \"y\"]].values.tolist()\n",
        "\n",
        "              # === 4. Downsample (optional, comment out to keep all points) ===\n",
        "              step = max(1, len(xy_pairs) // 10000)\n",
        "              xy_pairs = xy_pairs[::5]\n",
        "\n",
        "              # === 5. Format prompt+completion ===\n",
        "              messages = f\"This is unknown{num} . {xy_pairs}\"\n",
        "\n",
        "            item = [\n",
        "              {\"role\": \"system\", \"content\": \"You are an expert microplastic type classifier. The first column is X-axis and the second column is Y-axis. Classify the unknown and return only the microplastic type classname\"},\n",
        "              {\"role\" : \"user\", \"content\" : messages}\n",
        "            ]\n",
        "            num += 1\n",
        "            #print(item)\n",
        "\n",
        "            client = OpenAI(api_key=userdata.get(\"OPENAI_API_KEY\"))\n",
        "\n",
        "            # Your custom model ID\n",
        "            fine_tuned_model_id = \"ft:gpt-4.1-nano-2025-04-14:personal:microplastic-classifier-1-trainset:CLeuq3GA\"\n",
        "\n",
        "            completion = client.chat.completions.create(\n",
        "            model=fine_tuned_model_id,\n",
        "            messages=item\n",
        "            )\n",
        "\n",
        "            # Get response and timestamp\n",
        "            response = completion.choices[0].message.content\n",
        "            timestamp = time.strftime(\"%Y-%m-%d %H:%M:%S\")\n",
        "\n",
        "            # Save to CSV\n",
        "            with open(csv_file, 'a', newline='') as file:\n",
        "                writer = csv.writer(file)\n",
        "                writer.writerow([timestamp, response])\n",
        "\n",
        "            print(f\"[{timestamp}] Response saved\")\n",
        "\n",
        "            # Wait 20 seconds\n",
        "            time.sleep(18)\n",
        "          else :\n",
        "            break\n",
        "\n",
        "    except Exception as e:\n",
        "        print(f\"Error reading {filename}: {e}\")\n",
        "\n"
      ],
      "metadata": {
        "id": "oGKCYeB6olxj",
        "outputId": "8aed540e-b309-4d93-a533-bb12caa26f84",
        "colab": {
          "base_uri": "https://localhost:8080/"
        }
      },
      "execution_count": 3,
      "outputs": [
        {
          "output_type": "stream",
          "name": "stdout",
          "text": [
            "SD_EPDM_1.CSV[2025-10-01 02:27:20] Response saved\n",
            "SD_EPDM_2.CSV[2025-10-01 02:27:41] Response saved\n",
            "SD_EPDM_3.CSV[2025-10-01 02:28:02] Response saved\n",
            "SD_EPDM_4.CSV[2025-10-01 02:28:23] Response saved\n",
            "SD_EPDM_5.CSV[2025-10-01 02:28:44] Response saved\n",
            "SD_EPDM_6.CSV[2025-10-01 02:29:05] Response saved\n",
            "SD_EPDM_7.CSV[2025-10-01 02:29:26] Response saved\n",
            "SD_EPDM_8.CSV[2025-10-01 02:29:47] Response saved\n",
            "SD_EPDM_9.CSV[2025-10-01 02:30:07] Response saved\n",
            "SD_EPDM_10.CSV[2025-10-01 02:30:28] Response saved\n",
            "SD_PVC_1.CSV[2025-10-01 02:30:50] Response saved\n",
            "SD_PVC_2.CSV[2025-10-01 02:31:10] Response saved\n",
            "SD_PVC_3.CSV[2025-10-01 02:31:31] Response saved\n",
            "SD_PVC_4.CSV[2025-10-01 02:31:52] Response saved\n",
            "SD_PVC_5.CSV[2025-10-01 02:32:12] Response saved\n",
            "SD_PVC_6.CSV[2025-10-01 02:32:33] Response saved\n",
            "SD_PVC_7.CSV[2025-10-01 02:32:54] Response saved\n",
            "SD_PVC_8.CSV[2025-10-01 02:33:15] Response saved\n",
            "SD_PVC_9.CSV[2025-10-01 02:33:36] Response saved\n",
            "SD_PVC_10.CSV[2025-10-01 02:33:56] Response saved\n",
            "SD_HDPE_1.CSV[2025-10-01 02:34:17] Response saved\n",
            "SD_HDPE_2.CSV[2025-10-01 02:34:38] Response saved\n",
            "SD_HDPE_3.CSV[2025-10-01 02:34:58] Response saved\n",
            "SD_HDPE_4.CSV[2025-10-01 02:35:20] Response saved\n",
            "SD_HDPE_5.CSV[2025-10-01 02:35:40] Response saved\n",
            "SD_HDPE_6.CSV[2025-10-01 02:36:01] Response saved\n",
            "SD_HDPE_7.CSV[2025-10-01 02:36:22] Response saved\n",
            "SD_HDPE_8.CSV[2025-10-01 02:36:43] Response saved\n",
            "SD_HDPE_9.CSV[2025-10-01 02:37:03] Response saved\n",
            "SD_HDPE_10.CSV[2025-10-01 02:37:24] Response saved\n",
            "SD_LDPE_1.CSV[2025-10-01 02:37:45] Response saved\n",
            "SD_LDPE_2.CSV[2025-10-01 02:38:06] Response saved\n",
            "SD_LDPE_3.CSV[2025-10-01 02:38:27] Response saved\n",
            "SD_LDPE_4.CSV[2025-10-01 02:38:48] Response saved\n",
            "SD_LDPE_5.CSV[2025-10-01 02:39:08] Response saved\n",
            "SD_LDPE_6.CSV[2025-10-01 02:39:29] Response saved\n",
            "SD_LDPE_7.CSV[2025-10-01 02:39:50] Response saved\n",
            "SD_LDPE_8.CSV[2025-10-01 02:40:11] Response saved\n",
            "SD_LDPE_9.CSV[2025-10-01 02:40:31] Response saved\n",
            "SD_LDPE_10.CSV[2025-10-01 02:40:52] Response saved\n",
            "SD_PBS_1.CSV[2025-10-01 02:41:12] Response saved\n",
            "SD_PBS_2.CSV[2025-10-01 02:41:33] Response saved\n",
            "SD_PBS_3.CSV[2025-10-01 02:41:53] Response saved\n",
            "SD_PBS_4.CSV[2025-10-01 02:42:14] Response saved\n",
            "SD_PBS_5.CSV[2025-10-01 02:42:35] Response saved\n",
            "SD_PBS_6.CSV[2025-10-01 02:42:56] Response saved\n",
            "SD_PBS_7.CSV[2025-10-01 02:43:17] Response saved\n",
            "SD_PBS_8.CSV[2025-10-01 02:43:37] Response saved\n",
            "SD_PBS_9.CSV[2025-10-01 02:43:58] Response saved\n",
            "SD_PBS_10.CSV[2025-10-01 02:44:18] Response saved\n",
            "SD_Acrylic_1.CSV[2025-10-01 02:44:39] Response saved\n",
            "SD_Acrylic_2.CSV[2025-10-01 02:44:59] Response saved\n",
            "SD_Acrylic_3.CSV[2025-10-01 02:45:21] Response saved\n",
            "SD_Acrylic_4.CSV[2025-10-01 02:45:41] Response saved\n",
            "SD_Acrylic_5.CSV[2025-10-01 02:46:02] Response saved\n",
            "SD_Acrylic_6.CSV[2025-10-01 02:46:22] Response saved\n",
            "SD_Acrylic_7.CSV[2025-10-01 02:46:43] Response saved\n",
            "SD_Acrylic_8.CSV[2025-10-01 02:47:03] Response saved\n",
            "SD_Acrylic_9.CSV[2025-10-01 02:47:24] Response saved\n",
            "SD_Acrylic_10.CSV[2025-10-01 02:47:44] Response saved\n",
            "SD_cellulose_1.CSV[2025-10-01 02:48:05] Response saved\n",
            "SD_cellulose_2.CSV[2025-10-01 02:48:26] Response saved\n",
            "SD_cellulose_3.CSV[2025-10-01 02:48:46] Response saved\n",
            "SD_cellulose_4.CSV[2025-10-01 02:49:07] Response saved\n",
            "SD_cellulose_5.CSV[2025-10-01 02:49:28] Response saved\n",
            "SD_cellulose_6.CSV[2025-10-01 02:49:50] Response saved\n",
            "SD_cellulose_7.CSV[2025-10-01 02:50:12] Response saved\n",
            "SD_cellulose_8.CSV[2025-10-01 02:50:33] Response saved\n",
            "SD_cellulose_9.CSV[2025-10-01 02:50:53] Response saved\n",
            "SD_cellulose_10.CSV[2025-10-01 02:51:14] Response saved\n",
            "SD_ENR_1.CSV[2025-10-01 02:51:35] Response saved\n",
            "SD_ENR_2.CSV[2025-10-01 02:51:56] Response saved\n",
            "SD_ENR_3.CSV[2025-10-01 02:52:17] Response saved\n",
            "SD_ENR_4.CSV[2025-10-01 02:52:37] Response saved\n",
            "SD_ENR_5.CSV[2025-10-01 02:52:57] Response saved\n",
            "SD_ENR_6.CSV[2025-10-01 02:53:18] Response saved\n",
            "SD_ENR_7.CSV[2025-10-01 02:53:38] Response saved\n",
            "SD_ENR_8.CSV[2025-10-01 02:53:58] Response saved\n",
            "SD_ENR_9.CSV[2025-10-01 02:54:19] Response saved\n",
            "SD_ENR_10.CSV[2025-10-01 02:54:39] Response saved\n",
            "SD_PBAT_1.CSV[2025-10-01 02:54:59] Response saved\n",
            "SD_PBAT_2.CSV[2025-10-01 02:55:20] Response saved\n",
            "SD_PBAT_3.CSV[2025-10-01 02:55:41] Response saved\n",
            "SD_PBAT_4.CSV[2025-10-01 02:56:01] Response saved\n",
            "SD_PBAT_5.CSV[2025-10-01 02:56:21] Response saved\n",
            "SD_PBAT_6.CSV[2025-10-01 02:56:42] Response saved\n",
            "SD_PBAT_7.CSV[2025-10-01 02:57:02] Response saved\n",
            "SD_PBAT_8.CSV[2025-10-01 02:57:23] Response saved\n",
            "SD_PBAT_9.CSV[2025-10-01 02:57:43] Response saved\n",
            "SD_PBAT_10.CSV[2025-10-01 02:58:04] Response saved\n",
            "SD_PC_2.CSV[2025-10-01 02:58:25] Response saved\n",
            "SD_PC_3.CSV[2025-10-01 02:58:45] Response saved\n",
            "SD_PC_4.CSV[2025-10-01 02:59:06] Response saved\n",
            "SD_PC_5.CSV[2025-10-01 02:59:27] Response saved\n",
            "SD_PC_6.CSV[2025-10-01 02:59:48] Response saved\n",
            "SD_PC_7.CSV[2025-10-01 03:00:08] Response saved\n",
            "SD_PC_8.CSV[2025-10-01 03:00:29] Response saved\n",
            "SD_PC_9.CSV[2025-10-01 03:00:49] Response saved\n",
            "SD_PC_10.CSV[2025-10-01 03:01:10] Response saved\n",
            "SD_PC_1.CSV[2025-10-01 03:01:31] Response saved\n",
            "SD_PLA_1.CSV[2025-10-01 03:01:51] Response saved\n",
            "SD_PLA_2.CSV[2025-10-01 03:02:11] Response saved\n",
            "SD_PLA_3.CSV[2025-10-01 03:02:32] Response saved\n",
            "SD_PLA_4.CSV[2025-10-01 03:02:52] Response saved\n",
            "SD_PLA_5.CSV[2025-10-01 03:03:12] Response saved\n",
            "SD_PLA_6.CSV[2025-10-01 03:03:33] Response saved\n",
            "SD_PLA_7.CSV[2025-10-01 03:03:53] Response saved\n",
            "SD_PLA_8.CSV[2025-10-01 03:04:14] Response saved\n",
            "SD_PLA_9.CSV[2025-10-01 03:04:34] Response saved\n",
            "SD_PLA_10.CSV[2025-10-01 03:04:55] Response saved\n",
            "SD_PMMA_1.CSV[2025-10-01 03:05:15] Response saved\n",
            "SD_PMMA_2.CSV[2025-10-01 03:05:35] Response saved\n",
            "SD_PMMA_3.CSV[2025-10-01 03:05:56] Response saved\n",
            "SD_PMMA_4.CSV[2025-10-01 03:06:16] Response saved\n",
            "SD_PMMA_5.CSV[2025-10-01 03:06:37] Response saved\n",
            "SD_PMMA_6.CSV[2025-10-01 03:06:58] Response saved\n",
            "SD_PMMA_7.CSV[2025-10-01 03:07:18] Response saved\n",
            "SD_PMMA_8.CSV[2025-10-01 03:07:39] Response saved\n",
            "SD_PMMA_9.CSV[2025-10-01 03:07:59] Response saved\n",
            "SD_PMMA_10.CSV[2025-10-01 03:08:20] Response saved\n",
            "SD_PS_1.CSV[2025-10-01 03:08:41] Response saved\n",
            "SD_PS_2.CSV[2025-10-01 03:09:03] Response saved\n",
            "SD_PS_3.CSV[2025-10-01 03:09:23] Response saved\n",
            "SD_PS_4.CSV[2025-10-01 03:09:45] Response saved\n",
            "SD_PS_5.CSV[2025-10-01 03:10:06] Response saved\n",
            "SD_PS_6.CSV[2025-10-01 03:10:26] Response saved\n",
            "SD_PS_7.CSV[2025-10-01 03:10:47] Response saved\n",
            "SD_PS_8.CSV[2025-10-01 03:11:08] Response saved\n",
            "SD_PS_9.CSV[2025-10-01 03:11:28] Response saved\n",
            "SD_PS_10.CSV[2025-10-01 03:11:50] Response saved\n",
            "SD_POM_1.CSV[2025-10-01 03:12:11] Response saved\n",
            "SD_POM_2.CSV[2025-10-01 03:12:31] Response saved\n",
            "SD_POM_3.CSV[2025-10-01 03:12:52] Response saved\n",
            "SD_POM_4.CSV[2025-10-01 03:13:13] Response saved\n",
            "SD_POM_5.CSV[2025-10-01 03:13:33] Response saved\n",
            "SD_POM_6.CSV[2025-10-01 03:13:54] Response saved\n",
            "SD_POM_7.CSV[2025-10-01 03:14:14] Response saved\n",
            "SD_POM_8.CSV[2025-10-01 03:14:35] Response saved\n",
            "SD_POM_9.CSV[2025-10-01 03:14:56] Response saved\n",
            "SD_POM_10.CSV[2025-10-01 03:15:17] Response saved\n",
            "SD_PET_1.CSV[2025-10-01 03:15:37] Response saved\n",
            "SD_PET_2.CSV[2025-10-01 03:15:58] Response saved\n",
            "SD_PET_3.CSV[2025-10-01 03:16:19] Response saved\n",
            "SD_PET_4.CSV[2025-10-01 03:16:40] Response saved\n",
            "SD_PET_5.CSV[2025-10-01 03:17:01] Response saved\n",
            "SD_PET_6.CSV[2025-10-01 03:17:21] Response saved\n",
            "SD_PET_7.CSV[2025-10-01 03:17:43] Response saved\n",
            "SD_PET_8.CSV[2025-10-01 03:18:03] Response saved\n",
            "SD_PET_9.CSV[2025-10-01 03:18:24] Response saved\n",
            "SD_PET_10.CSV[2025-10-01 03:18:44] Response saved\n",
            "SD_PEEK_1.CSV[2025-10-01 03:19:05] Response saved\n",
            "SD_PEEK_2.CSV[2025-10-01 03:19:27] Response saved\n",
            "SD_PEEK_3.CSV[2025-10-01 03:19:48] Response saved\n",
            "SD_PEEK_4.CSV[2025-10-01 03:20:12] Response saved\n",
            "SD_PEEK_5.CSV[2025-10-01 03:20:33] Response saved\n",
            "SD_PEEK_6.CSV[2025-10-01 03:20:54] Response saved\n",
            "SD_PEEK_7.CSV[2025-10-01 03:21:14] Response saved\n",
            "SD_PEEK_8.CSV[2025-10-01 03:21:35] Response saved\n",
            "SD_PEEK_9.CSV[2025-10-01 03:21:56] Response saved\n",
            "SD_PEEK_10.CSV[2025-10-01 03:22:16] Response saved\n",
            "SD_PP_1.CSV[2025-10-01 03:22:37] Response saved\n",
            "SD_PP_2.CSV[2025-10-01 03:22:58] Response saved\n",
            "SD_PP_3.CSV[2025-10-01 03:23:19] Response saved\n",
            "SD_PP_4.CSV[2025-10-01 03:23:40] Response saved\n",
            "SD_PP_5.CSV[2025-10-01 03:24:02] Response saved\n",
            "SD_PP_6.CSV[2025-10-01 03:24:22] Response saved\n",
            "SD_PP_7.CSV[2025-10-01 03:24:43] Response saved\n",
            "SD_PP_8.CSV[2025-10-01 03:25:04] Response saved\n",
            "SD_PP_9.CSV[2025-10-01 03:25:25] Response saved\n",
            "SD_PP_10.CSV[2025-10-01 03:25:45] Response saved\n",
            "SD_PEI_1.CSV[2025-10-01 03:26:06] Response saved\n",
            "SD_PEI_2.CSV[2025-10-01 03:26:27] Response saved\n",
            "SD_PEI_3.CSV[2025-10-01 03:26:47] Response saved\n",
            "SD_PEI_4.CSV[2025-10-01 03:27:08] Response saved\n",
            "SD_PEI_5.CSV[2025-10-01 03:27:28] Response saved\n",
            "SD_PEI_6.CSV[2025-10-01 03:27:49] Response saved\n",
            "SD_PEI_7.CSV[2025-10-01 03:28:10] Response saved\n",
            "SD_PEI_8.CSV[2025-10-01 03:28:30] Response saved\n",
            "SD_PEI_9.CSV[2025-10-01 03:28:51] Response saved\n",
            "SD_PEI_10.CSV[2025-10-01 03:29:12] Response saved\n",
            "SD_PU_1.CSV[2025-10-01 03:29:32] Response saved\n",
            "SD_PU_2.CSV[2025-10-01 03:29:53] Response saved\n",
            "SD_PU_3.CSV[2025-10-01 03:30:13] Response saved\n",
            "SD_PU_4.CSV[2025-10-01 03:30:33] Response saved\n",
            "SD_PU_5.CSV[2025-10-01 03:30:54] Response saved\n",
            "SD_PU_6.CSV[2025-10-01 03:31:15] Response saved\n",
            "SD_PU_7.CSV[2025-10-01 03:31:36] Response saved\n",
            "SD_PU_8.CSV[2025-10-01 03:31:56] Response saved\n",
            "SD_PU_9.CSV[2025-10-01 03:32:16] Response saved\n",
            "SD_PU_10.CSV[2025-10-01 03:32:37] Response saved\n",
            "SD_PVA_1.CSV[2025-10-01 03:32:57] Response saved\n",
            "SD_PVA_2.CSV[2025-10-01 03:33:18] Response saved\n",
            "SD_PVA_3.CSV[2025-10-01 03:33:39] Response saved\n",
            "SD_PVA_4.CSV[2025-10-01 03:33:59] Response saved\n",
            "SD_PVA_5.CSV[2025-10-01 03:34:19] Response saved\n",
            "SD_PVA_6.CSV[2025-10-01 03:34:40] Response saved\n",
            "SD_PVA_7.CSV[2025-10-01 03:35:00] Response saved\n",
            "SD_PVA_8.CSV[2025-10-01 03:35:21] Response saved\n",
            "SD_PVA_9.CSV[2025-10-01 03:35:42] Response saved\n",
            "SD_PVA_10.CSV[2025-10-01 03:36:03] Response saved\n",
            "SD_PTEE_1.CSV[2025-10-01 03:36:23] Response saved\n",
            "SD_PTEE_2.CSV[2025-10-01 03:36:44] Response saved\n",
            "SD_PTEE_3.CSV[2025-10-01 03:37:05] Response saved\n",
            "SD_PTEE_4.CSV[2025-10-01 03:37:26] Response saved\n",
            "SD_PTEE_5.CSV[2025-10-01 03:37:47] Response saved\n",
            "SD_PTEE_6.CSV[2025-10-01 03:38:08] Response saved\n",
            "SD_PTEE_7.CSV[2025-10-01 03:38:29] Response saved\n",
            "SD_PTEE_8.CSV[2025-10-01 03:38:49] Response saved\n",
            "SD_PTEE_9.CSV[2025-10-01 03:39:10] Response saved\n",
            "SD_PTEE_10.CSV[2025-10-01 03:39:31] Response saved\n",
            "Nylon particle_SD_51.CSV[2025-10-01 03:39:51] Response saved\n",
            "Nylon particle_SD_52.CSV[2025-10-01 03:40:11] Response saved\n",
            "Nylon particle_SD_53.CSV[2025-10-01 03:40:31] Response saved\n",
            "Nylon particle_SD_54.CSV[2025-10-01 03:40:52] Response saved\n",
            "Nylon particle_SD_55.CSV[2025-10-01 03:41:12] Response saved\n",
            "Nylon particle_SD_56.CSV[2025-10-01 03:41:32] Response saved\n",
            "Nylon particle_SD_57.CSV[2025-10-01 03:41:53] Response saved\n",
            "Nylon particle_SD_58.CSV[2025-10-01 03:42:13] Response saved\n",
            "Nylon particle_SD_59.CSV[2025-10-01 03:42:34] Response saved\n",
            "Nylon particle_SD_60.CSV[2025-10-01 03:42:54] Response saved\n"
          ]
        }
      ]
    }
  ],
  "metadata": {
    "colab": {
      "name": "Welcome To Colab",
      "provenance": [],
      "gpuType": "T4",
      "include_colab_link": true
    },
    "kernelspec": {
      "display_name": "Python 3",
      "name": "python3"
    },
    "accelerator": "GPU"
  },
  "nbformat": 4,
  "nbformat_minor": 0
}