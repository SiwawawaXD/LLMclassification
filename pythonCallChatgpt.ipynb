{
  "cells": [
    {
      "cell_type": "markdown",
      "metadata": {
        "id": "view-in-github",
        "colab_type": "text"
      },
      "source": [
        "<a href=\"https://colab.research.google.com/github/SiwawawaXD/LLMclassification/blob/main/pythonCallChatgpt.ipynb\" target=\"_parent\"><img src=\"https://colab.research.google.com/assets/colab-badge.svg\" alt=\"Open In Colab\"/></a>"
      ]
    },
    {
      "cell_type": "code",
      "source": [
        "from google.colab import drive\n",
        "drive.mount('/content/drive')"
      ],
      "metadata": {
        "colab": {
          "base_uri": "https://localhost:8080/"
        },
        "id": "xhAfkHkNJnys",
        "outputId": "a9cca074-052a-4192-b25b-cba82366af11"
      },
      "execution_count": null,
      "outputs": [
        {
          "output_type": "stream",
          "name": "stdout",
          "text": [
            "Mounted at /content/drive\n"
          ]
        }
      ]
    },
    {
      "cell_type": "code",
      "source": [
        "from openai import OpenAI\n",
        "\n",
        "# Initialize the client\n",
        "# The client automatically reads the OPENAI_API_KEY environment variable\n",
        "client = OpenAI(api_key=userdata.get(\"OPENAI_API_KEY\"))\n",
        "\n",
        "# Upload the training file\n",
        "file_upload_response = client.files.create(\n",
        "  file=open(\"training_data.jsonl\", \"rb\"), # Your file path\n",
        "  purpose=\"fine-tune\"\n",
        ")\n",
        "\n",
        "# Get the file ID\n",
        "training_file_id = file_upload_response.id\n",
        "print(f\"File uploaded successfully with ID: {training_file_id}\")"
      ],
      "metadata": {
        "colab": {
          "base_uri": "https://localhost:8080/"
        },
        "id": "KelKwJKH31kN",
        "outputId": "3ddcbef5-7a1c-4d2a-e6f3-3471297c2687"
      },
      "execution_count": null,
      "outputs": [
        {
          "output_type": "stream",
          "name": "stdout",
          "text": [
            "File uploaded successfully with ID: file-SaVUwjnaHCfvpVqjzFFecV\n"
          ]
        }
      ]
    },
    {
      "cell_type": "code",
      "source": [
        "file_upload_response"
      ],
      "metadata": {
        "colab": {
          "base_uri": "https://localhost:8080/"
        },
        "id": "Am84mjZ39us1",
        "outputId": "0b2b69e6-5902-4bef-b100-75335d95e77c"
      },
      "execution_count": null,
      "outputs": [
        {
          "output_type": "execute_result",
          "data": {
            "text/plain": [
              "FileObject(id='file-SaVUwjnaHCfvpVqjzFFecV', bytes=2255267, created_at=1756813540, filename='training_data.jsonl', object='file', purpose='fine-tune', status='processed', expires_at=None, status_details=None)"
            ]
          },
          "metadata": {},
          "execution_count": 64
        }
      ]
    },
    {
      "cell_type": "code",
      "source": [
        "from openai import OpenAI\n",
        "\n",
        "client = OpenAI(api_key=userdata.get(\"OPENAI_API_KEY\"))\n",
        "\n",
        "# The training_file_id from the previous step\n",
        "training_file_id = \"file-SaVUwjnaHCfvpVqjzFFecV\" # <-- Replace with your actual file ID\n",
        "\n",
        "# Create the fine-tuning job\n",
        "fine_tuning_job = client.fine_tuning.jobs.create(\n",
        "  training_file=training_file_id,\n",
        "  model=\"gpt-4.1-nano-2025-04-14\", # The base model you want to fine-tune\n",
        "  suffix=\"Microplastic Classifier\" # (Optional) A custom name for your model\n",
        ")\n",
        "\n",
        "# Get the job ID\n",
        "job_id = fine_tuning_job.id\n",
        "print(f\"Fine-tuning job created successfully with ID: {job_id}\")"
      ],
      "metadata": {
        "colab": {
          "base_uri": "https://localhost:8080/"
        },
        "id": "knJvvtky9yCJ",
        "outputId": "84e24291-a9ae-4a17-9382-fab168439378"
      },
      "execution_count": null,
      "outputs": [
        {
          "output_type": "stream",
          "name": "stdout",
          "text": [
            "Fine-tuning job created successfully with ID: ftjob-P4zhyRZ0SfPSleejMRNdxSOL\n"
          ]
        }
      ]
    },
    {
      "cell_type": "code",
      "source": [
        "fine_tuning_job"
      ],
      "metadata": {
        "colab": {
          "base_uri": "https://localhost:8080/"
        },
        "id": "ke29kVPsETEu",
        "outputId": "ff804d14-aaac-493c-f441-ad4e75e155a3"
      },
      "execution_count": null,
      "outputs": [
        {
          "output_type": "execute_result",
          "data": {
            "text/plain": [
              "FineTuningJob(id='ftjob-P4zhyRZ0SfPSleejMRNdxSOL', created_at=1756813558, error=Error(code=None, message=None, param=None), fine_tuned_model=None, finished_at=None, hyperparameters=Hyperparameters(batch_size='auto', learning_rate_multiplier='auto', n_epochs='auto'), model='gpt-4.1-nano-2025-04-14', object='fine_tuning.job', organization_id='org-XCHqF2z00bEi63AZd5QnYvjt', result_files=[], seed=506371763, status='validating_files', trained_tokens=None, training_file='file-SaVUwjnaHCfvpVqjzFFecV', validation_file=None, estimated_finish=None, integrations=[], metadata=None, method=Method(type='supervised', dpo=None, reinforcement=None, supervised=SupervisedMethod(hyperparameters=SupervisedHyperparameters(batch_size='auto', learning_rate_multiplier='auto', n_epochs='auto'))), user_provided_suffix='Microplastic Classifier', usage_metrics=None, shared_with_openai=False, eval_id=None)"
            ]
          },
          "metadata": {},
          "execution_count": 66
        }
      ]
    },
    {
      "cell_type": "code",
      "source": [
        "import numpy as np\n",
        "from openai import OpenAI\n",
        "from google.colab import userdata\n",
        "import pandas as pd\n",
        "import os\n",
        "#PVC\n",
        "folder_path = \"/content/Acrylic_SD_50.CSV\"\n",
        "df = pd.read_csv(folder_path, header=None, names=[\"x\", \"y\"])\n",
        "xy_pairs = df[[\"x\", \"y\"]].values.tolist()\n",
        "step = max(1, len(xy_pairs) // 100)  # keep ~2000 points\n",
        "xy_pairs = xy_pairs[::step]\n",
        "print(xy_pairs)"
      ],
      "metadata": {
        "colab": {
          "base_uri": "https://localhost:8080/"
        },
        "id": "PPpFbrf0YXdu",
        "outputId": "2519be0d-dbfe-46bf-ff2f-dcaae9ea6edc"
      },
      "execution_count": null,
      "outputs": [
        {
          "output_type": "stream",
          "name": "stdout",
          "text": [
            "[[525.0251, 0.03810066], [559.7375, 0.03400423], [594.4499, 0.03095923], [629.1623, 0.03178349], [663.8747, 0.03262454], [698.5871, 0.03224123], [733.2995, 0.04085525], [768.0119, 0.05003912], [802.7243, 0.05186472], [837.4367, 0.1002673], [872.1491, 0.04792507], [906.8615, 0.05750097], [941.5739, 0.06821029], [976.2863, 0.1107229], [1010.999, 0.04827971], [1045.711, 0.06594982], [1080.423, 0.1070966], [1115.136, 0.1947987], [1149.848, 0.286329], [1184.561, 0.1888029], [1219.273, 0.09614702], [1253.985, 0.1251032], [1288.698, 0.070783], [1323.41, 0.03930444], [1358.123, 0.0466243], [1392.835, 0.06321535], [1427.547, 0.09278391], [1462.26, 0.08305258], [1496.972, 0.0412618], [1531.685, 0.03272824], [1566.397, 0.02950365], [1601.109, 0.02831188], [1635.822, 0.05798702], [1670.534, 0.05213774], [1705.247, 0.1153768], [1739.959, 0.1488713], [1774.672, 0.0215919], [1809.384, 0.01674039], [1844.096, 0.01727241], [1878.809, 0.01331575], [1913.521, 0.01310483], [1948.234, 0.01364425], [1982.946, 0.01407637], [2017.658, 0.01217203], [2052.371, 0.01415588], [2087.083, 0.01383042], [2121.795, 0.01218621], [2156.508, 0.008080624], [2191.22, 0.0123193], [2225.933, 0.01194688], [2260.645, 0.01239579], [2295.357, 0.01413675], [2330.07, 0.01766765], [2364.782, 0.01873033], [2399.495, 0.01316566], [2434.207, 0.01342732], [2468.919, 0.01329327], [2503.632, 0.01329396], [2538.344, 0.0135596], [2573.057, 0.01378223], [2607.769, 0.01425256], [2642.481, 0.01474387], [2677.194, 0.01406744], [2711.906, 0.01424082], [2746.619, 0.01494818], [2781.331, 0.01528742], [2816.043, 0.01668344], [2850.756, 0.02165382], [2885.468, 0.02673463], [2920.181, 0.03816238], [2954.893, 0.056623], [2989.605, 0.04224465], [3024.318, 0.02665225], [3059.03, 0.01761937], [3093.743, 0.01658136], [3128.455, 0.01646785], [3163.167, 0.01676092], [3197.88, 0.01756082], [3232.592, 0.01831405], [3267.305, 0.01984566], [3302.017, 0.02234637], [3336.729, 0.01971579], [3371.442, 0.01851513], [3406.154, 0.01834374], [3440.867, 0.01891341], [3475.579, 0.01730214], [3510.292, 0.01795317], [3545.004, 0.01987965], [3579.716, 0.01665593], [3614.429, 0.01970022], [3649.141, 0.02371274], [3683.854, 0.01357019], [3718.566, 0.01407103], [3753.278, 0.0178934], [3787.991, 0.01314677], [3822.703, 0.01651665], [3857.416, 0.0152333], [3892.128, 0.01585546], [3926.84, 0.01358072], [3961.553, 0.01303019], [3996.265, 0.01249672]]\n"
          ]
        }
      ]
    },
    {
      "cell_type": "code",
      "source": [
        "from openai import OpenAI\n",
        "\n",
        "client = OpenAI(api_key=userdata.get(\"OPENAI_API_KEY\"))\n",
        "\n",
        "# Your new custom model ID\n",
        "fine_tuned_model_id = \"ft:gpt-4.1-nano-2025-04-14:personal:microplastic-classifier:CBKMrkFG\" # <-- Replace with your new model ID\n",
        "\n",
        "completion = client.chat.completions.create(\n",
        "  model=fine_tuned_model_id,\n",
        "  messages=[\n",
        "    {\"role\": \"system\", \"content\": \"You are an expert microplastic type classifier(There are Acrylic, Cellulose, ENR, EPDM, HDPE, LDPE, NYLON, PBAT, PBS, PC, PEEK, PEI, PET, PLA, PMMA, POM, PP, PS, PTFE, PU, PVA, PVC) based on the graph points that I send to you. the first column is X-axis and the second column is Y-axis. Return only the unknown label and the microplastic type classname\"},\n",
        "    {\"role\": \"user\", \"content\": f\"what is the microplastic type of the graph with the following points? \"}\n",
        "  ]\n",
        ")\n",
        "\n",
        "# Print the model's response\n",
        "print(completion.choices[0].message.content)"
      ],
      "metadata": {
        "id": "ZIMRQ96k-TWk",
        "colab": {
          "base_uri": "https://localhost:8080/"
        },
        "outputId": "45fc84e2-3703-43ea-8f53-aa816a0e1645"
      },
      "execution_count": null,
      "outputs": [
        {
          "output_type": "stream",
          "name": "stdout",
          "text": [
            "PS\n"
          ]
        }
      ]
    }
  ],
  "metadata": {
    "colab": {
      "name": "Welcome To Colab",
      "provenance": [],
      "gpuType": "T4",
      "include_colab_link": true
    },
    "kernelspec": {
      "display_name": "Python 3",
      "name": "python3"
    },
    "accelerator": "GPU"
  },
  "nbformat": 4,
  "nbformat_minor": 0
}