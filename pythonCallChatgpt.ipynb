{
  "cells": [
    {
      "cell_type": "markdown",
      "metadata": {
        "id": "view-in-github",
        "colab_type": "text"
      },
      "source": [
        "<a href=\"https://colab.research.google.com/github/SiwawawaXD/LLMclassification/blob/main/pythonCallChatgpt.ipynb\" target=\"_parent\"><img src=\"https://colab.research.google.com/assets/colab-badge.svg\" alt=\"Open In Colab\"/></a>"
      ]
    },
    {
      "cell_type": "code",
      "source": [
        "# !pip install -q openai"
      ],
      "metadata": {
        "id": "eVv2RvZsKIQZ"
      },
      "execution_count": null,
      "outputs": []
    },
    {
      "cell_type": "code",
      "source": [
        "import numpy as np\n",
        "\n",
        "x = np.linspace(-5, 5, 15)   # 15 points between -5 and 5\n",
        "y = x**2\n",
        "points = np.column_stack((x, y))  # shape (15,2)\n",
        "print(\"Parabola points:\\n\", points)"
      ],
      "metadata": {
        "id": "GNu9jPNwPI1m",
        "outputId": "407bab95-4c40-4a15-f50c-4b8c15745cb6",
        "colab": {
          "base_uri": "https://localhost:8080/"
        }
      },
      "execution_count": 4,
      "outputs": [
        {
          "output_type": "stream",
          "name": "stdout",
          "text": [
            "Parabola points:\n",
            " [[-5.         25.        ]\n",
            " [-4.28571429 18.36734694]\n",
            " [-3.57142857 12.75510204]\n",
            " [-2.85714286  8.16326531]\n",
            " [-2.14285714  4.59183673]\n",
            " [-1.42857143  2.04081633]\n",
            " [-0.71428571  0.51020408]\n",
            " [ 0.          0.        ]\n",
            " [ 0.71428571  0.51020408]\n",
            " [ 1.42857143  2.04081633]\n",
            " [ 2.14285714  4.59183673]\n",
            " [ 2.85714286  8.16326531]\n",
            " [ 3.57142857 12.75510204]\n",
            " [ 4.28571429 18.36734694]\n",
            " [ 5.         25.        ]]\n"
          ]
        }
      ]
    },
    {
      "cell_type": "code",
      "source": [
        "import os\n",
        "from openai import OpenAI\n",
        "from google.colab import userdata\n",
        "\n",
        "os.environ['OPENAI_API_KEY'] = userdata.get('OPENAI_API_KEY')\n",
        "\n",
        "# Initialize client with your API key from Colab userdata\n",
        "client = OpenAI(\n",
        "   api_key=os.environ.get(\"OPENAI_API_KEY\")\n",
        ")\n",
        "\n",
        "# Send request using chat.completions\n",
        "response = client.chat.completions.create(\n",
        "    model=\"gpt-5-nano\",\n",
        "    messages=[\n",
        "        {\"role\": \"system\", \"content\": \"You are a math assistant.\"},\n",
        "        {\"role\": \"user\", \"content\": f\"Here are 15 points from a curve: {points.tolist()}. \"\n",
        "                                    \"Based on these points, what general shape is this curve?\"},\n",
        "    ],#temperature=0,\n",
        "    max_completion_tokens=1024\n",
        "    #max_tokens=1024\n",
        ")\n",
        "\n",
        "# Print the assistant's reply\n",
        "print(response.choices[0].message.content)\n"
      ],
      "metadata": {
        "colab": {
          "base_uri": "https://localhost:8080/"
        },
        "id": "pyu7ei_XPWEx",
        "outputId": "b5248707-03fb-4a75-b026-4ef2f28ef32e"
      },
      "execution_count": 7,
      "outputs": [
        {
          "output_type": "stream",
          "name": "stdout",
          "text": [
            "Parabola (specifically y = x^2). The points lie on a symmetric, U-shaped curve with vertex at (0,0) and y ≈ x^2 for all x.\n"
          ]
        }
      ]
    }
  ],
  "metadata": {
    "colab": {
      "name": "Welcome To Colab",
      "provenance": [],
      "gpuType": "T4",
      "include_colab_link": true
    },
    "kernelspec": {
      "display_name": "Python 3",
      "name": "python3"
    },
    "accelerator": "GPU"
  },
  "nbformat": 4,
  "nbformat_minor": 0
}