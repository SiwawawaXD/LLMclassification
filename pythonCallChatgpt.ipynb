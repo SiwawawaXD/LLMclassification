{
  "cells": [
    {
      "cell_type": "markdown",
      "metadata": {
        "id": "view-in-github",
        "colab_type": "text"
      },
      "source": [
        "<a href=\"https://colab.research.google.com/github/SiwawawaXD/LLMclassification/blob/main/pythonCallChatgpt.ipynb\" target=\"_parent\"><img src=\"https://colab.research.google.com/assets/colab-badge.svg\" alt=\"Open In Colab\"/></a>"
      ]
    },
    {
      "cell_type": "code",
      "source": [
        "from google.colab import drive\n",
        "drive.mount('/content/drive')"
      ],
      "metadata": {
        "colab": {
          "base_uri": "https://localhost:8080/"
        },
        "id": "xhAfkHkNJnys",
        "outputId": "a9cca074-052a-4192-b25b-cba82366af11"
      },
      "execution_count": null,
      "outputs": [
        {
          "output_type": "stream",
          "name": "stdout",
          "text": [
            "Mounted at /content/drive\n"
          ]
        }
      ]
    },
    {
      "cell_type": "code",
      "source": [
        "from openai import OpenAI\n",
        "from google.colab import userdata\n",
        "# Initialize the client\n",
        "# The client automatically reads the OPENAI_API_KEY environment variable\n",
        "client = OpenAI(api_key=userdata.get(\"OPENAI_API_KEY\"))\n",
        "\n",
        "# Upload the training file\n",
        "file_upload_response = client.files.create(\n",
        "  file=open(\"training_data.jsonl\", \"rb\"), # Your file path\n",
        "  purpose=\"fine-tune\"\n",
        ")\n",
        "\n",
        "# Get the file ID\n",
        "training_file_id = file_upload_response.id\n",
        "print(f\"File uploaded successfully with ID: {training_file_id}\")"
      ],
      "metadata": {
        "colab": {
          "base_uri": "https://localhost:8080/"
        },
        "id": "KelKwJKH31kN",
        "outputId": "c5d9a998-8e47-4a5d-99db-0ae807b2e614"
      },
      "execution_count": null,
      "outputs": [
        {
          "output_type": "stream",
          "name": "stdout",
          "text": [
            "File uploaded successfully with ID: file-TrTLwMwfN97Jmx8dj1DGyU\n"
          ]
        }
      ]
    },
    {
      "cell_type": "code",
      "source": [
        "file_upload_response"
      ],
      "metadata": {
        "colab": {
          "base_uri": "https://localhost:8080/"
        },
        "id": "Am84mjZ39us1",
        "outputId": "0b27dfeb-128a-47b2-ec32-be2ab5331c6e"
      },
      "execution_count": null,
      "outputs": [
        {
          "output_type": "execute_result",
          "data": {
            "text/plain": [
              "FileObject(id='file-TrTLwMwfN97Jmx8dj1DGyU', bytes=1885259, created_at=1757065000, filename='training_data.jsonl', object='file', purpose='fine-tune', status='processed', expires_at=None, status_details=None)"
            ]
          },
          "metadata": {},
          "execution_count": 18
        }
      ]
    },
    {
      "cell_type": "code",
      "source": [
        "from openai import OpenAI\n",
        "\n",
        "client = OpenAI(api_key=userdata.get(\"OPENAI_API_KEY\"))\n",
        "\n",
        "# The training_file_id from the previous step\n",
        "training_file_id = \"file-TrTLwMwfN97Jmx8dj1DGyU\" # <-- Replace with your actual file ID\n",
        "\n",
        "# Create the fine-tuning job\n",
        "fine_tuning_job = client.fine_tuning.jobs.create(\n",
        "  training_file=training_file_id,\n",
        "  model=\"gpt-4.1-nano-2025-04-14\", # The base model you want to fine-tune\n",
        "  suffix=\"Microplastic Classifier 1 trainset\" # (Optional) A custom name for your model\n",
        ")\n",
        "\n",
        "# Get the job ID\n",
        "job_id = fine_tuning_job.id\n",
        "print(f\"Fine-tuning job created successfully with ID: {job_id}\")"
      ],
      "metadata": {
        "colab": {
          "base_uri": "https://localhost:8080/"
        },
        "id": "knJvvtky9yCJ",
        "outputId": "d100154e-a981-4b36-d586-fa7c06c37ffa"
      },
      "execution_count": null,
      "outputs": [
        {
          "output_type": "stream",
          "name": "stdout",
          "text": [
            "Fine-tuning job created successfully with ID: ftjob-ELoZtofDyFU3gK0k2YlC2IFq\n"
          ]
        }
      ]
    },
    {
      "cell_type": "code",
      "source": [
        "fine_tuning_job"
      ],
      "metadata": {
        "colab": {
          "base_uri": "https://localhost:8080/"
        },
        "outputId": "fa721be4-00e6-4125-b464-3e7d58281a6e",
        "id": "wLzgsq0BS2Yj"
      },
      "execution_count": null,
      "outputs": [
        {
          "output_type": "execute_result",
          "data": {
            "text/plain": [
              "FineTuningJob(id='ftjob-ELoZtofDyFU3gK0k2YlC2IFq', created_at=1757065012, error=Error(code=None, message=None, param=None), fine_tuned_model=None, finished_at=None, hyperparameters=Hyperparameters(batch_size='auto', learning_rate_multiplier='auto', n_epochs='auto'), model='gpt-4.1-nano-2025-04-14', object='fine_tuning.job', organization_id='org-XCHqF2z00bEi63AZd5QnYvjt', result_files=[], seed=1319831478, status='validating_files', trained_tokens=None, training_file='file-TrTLwMwfN97Jmx8dj1DGyU', validation_file=None, estimated_finish=None, integrations=[], metadata=None, method=Method(type='supervised', dpo=None, reinforcement=None, supervised=SupervisedMethod(hyperparameters=SupervisedHyperparameters(batch_size='auto', learning_rate_multiplier='auto', n_epochs='auto'))), user_provided_suffix='Microplastic Classifier 1 trainset', usage_metrics=None, shared_with_openai=False, eval_id=None)"
            ]
          },
          "metadata": {},
          "execution_count": 20
        }
      ]
    },
    {
      "cell_type": "code",
      "source": [
        "client.fine_tuning.jobs.retrieve(job_id)"
      ],
      "metadata": {
        "colab": {
          "base_uri": "https://localhost:8080/"
        },
        "id": "L6dq-24dGEg3",
        "outputId": "2cc50fdc-560b-4bea-e38d-027650fc7fa8"
      },
      "execution_count": null,
      "outputs": [
        {
          "output_type": "execute_result",
          "data": {
            "text/plain": [
              "FineTuningJob(id='ftjob-ELoZtofDyFU3gK0k2YlC2IFq', created_at=1757065012, error=Error(code='exceeded_quota', message='Creating this fine-tuning job would exceed your hard limit, please check your plan and billing details.                     Cost of job ftjob-ELoZtofDyFU3gK0k2YlC2IFq: USD 6.16. Quota remaining for your project proj_SroCgzfBjKf1IwzrqNv0DVPy: USD 4.68.', param=None), fine_tuned_model=None, finished_at=None, hyperparameters=Hyperparameters(batch_size=1, learning_rate_multiplier=0.1, n_epochs=4), model='gpt-4.1-nano-2025-04-14', object='fine_tuning.job', organization_id='org-XCHqF2z00bEi63AZd5QnYvjt', result_files=[], seed=1319831478, status='failed', trained_tokens=None, training_file='file-TrTLwMwfN97Jmx8dj1DGyU', validation_file=None, estimated_finish=None, integrations=[], metadata=None, method=Method(type='supervised', dpo=None, reinforcement=None, supervised=SupervisedMethod(hyperparameters=SupervisedHyperparameters(batch_size=1, learning_rate_multiplier=0.1, n_epochs=4))), user_provided_suffix='Microplastic Classifier 1 trainset', usage_metrics=None, shared_with_openai=False, eval_id=None)"
            ]
          },
          "metadata": {},
          "execution_count": 24
        }
      ]
    },
    {
      "cell_type": "code",
      "source": [
        "import numpy as np\n",
        "from openai import OpenAI\n",
        "from google.colab import userdata\n",
        "import pandas as pd\n",
        "import os\n",
        "#PVC\n",
        "folder_path = \"/content/Acrylic_SD_50.CSV\"\n",
        "df = pd.read_csv(folder_path, header=None, names=[\"x\", \"y\"])\n",
        "xy_pairs = df[[\"x\", \"y\"]].values.tolist()\n",
        "step = max(1, len(xy_pairs) // 100)  # keep ~2000 points\n",
        "xy_pairs = xy_pairs[::step]\n",
        "print(xy_pairs)"
      ],
      "metadata": {
        "id": "PPpFbrf0YXdu"
      },
      "execution_count": null,
      "outputs": []
    },
    {
      "cell_type": "code",
      "source": [
        "from openai import OpenAI\n",
        "\n",
        "client = OpenAI(api_key=userdata.get(\"OPENAI_API_KEY\"))\n",
        "\n",
        "# Your new custom model ID\n",
        "fine_tuned_model_id = \"ft:gpt-4.1-nano-2025-04-14:personal:microplastic-classifier:CBKMrkFG\" # <-- Replace with your new model ID\n",
        "\n",
        "completion = client.chat.completions.create(\n",
        "  model=fine_tuned_model_id,\n",
        "  messages=[\n",
        "    {\"role\": \"system\", \"content\": \"You are an expert microplastic type classifier(There are Acrylic, Cellulose, ENR, EPDM, HDPE, LDPE, NYLON, PBAT, PBS, PC, PEEK, PEI, PET, PLA, PMMA, POM, PP, PS, PTFE, PU, PVA, PVC) based on the graph points that I send to you. the first column is X-axis and the second column is Y-axis. Return only the unknown label and the microplastic type classname\"},\n",
        "    {\"role\": \"user\", \"content\": f\"what is the microplastic type of the graph with the following points? \"}\n",
        "  ]\n",
        ")\n",
        "\n",
        "# Print the model's response\n",
        "print(completion.choices[0].message.content)"
      ],
      "metadata": {
        "id": "ZIMRQ96k-TWk"
      },
      "execution_count": null,
      "outputs": []
    }
  ],
  "metadata": {
    "colab": {
      "name": "Welcome To Colab",
      "provenance": [],
      "gpuType": "T4",
      "include_colab_link": true
    },
    "kernelspec": {
      "display_name": "Python 3",
      "name": "python3"
    },
    "accelerator": "GPU"
  },
  "nbformat": 4,
  "nbformat_minor": 0
}